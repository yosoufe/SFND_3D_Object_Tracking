{
 "cells": [
  {
   "cell_type": "code",
   "execution_count": null,
   "metadata": {},
   "outputs": [],
   "source": [
    "import matplotlib\n",
    "import matplotlib.pyplot as plt\n",
    "import numpy as np\n",
    "\n",
    "import pickle\n",
    "%matplotlib notebook"
   ]
  },
  {
   "cell_type": "code",
   "execution_count": null,
   "metadata": {},
   "outputs": [],
   "source": [
    "file = \"results/camera_ttcs_vs_types.p\""
   ]
  },
  {
   "cell_type": "code",
   "execution_count": null,
   "metadata": {},
   "outputs": [],
   "source": [
    "results = pickle.load( open( file, \"rb\" ) )\n",
    "results = results[\"res\"]\n",
    "fig, ax = plt.subplots()\n",
    "fig.set_size_inches([10*2,8*2])\n",
    "legends = []\n",
    "for ttc, detector_t, desc_t in results:\n",
    "    legends.append(\"Det, Mat: {}, {}\".format(detector_t, desc_t))\n",
    "    ax.plot(range(2, 2+len(ttc)),ttc)\n",
    "\n",
    "ax.set_ylim([-100,150])\n",
    "ax.legend(legends, loc='upper right')\n",
    "\n",
    "ax.set(xlabel='frame', ylabel='TTC (s)',\n",
    "    title='TTC from CAMERA with different Detector and Descriptor')\n",
    "ax.grid()\n",
    "# fig.savefig(\"task_6.png\")\n",
    "plt.show()\n"
   ]
  }
 ],
 "metadata": {
  "kernelspec": {
   "display_name": "Python 3",
   "language": "python",
   "name": "python3"
  },
  "language_info": {
   "codemirror_mode": {
    "name": "ipython",
    "version": 3
   },
   "file_extension": ".py",
   "mimetype": "text/x-python",
   "name": "python",
   "nbconvert_exporter": "python",
   "pygments_lexer": "ipython3",
   "version": "3.7.6"
  }
 },
 "nbformat": 4,
 "nbformat_minor": 2
}
